{
 "cells": [
  {
   "cell_type": "code",
   "execution_count": 1,
   "metadata": {},
   "outputs": [],
   "source": [
    "#   載入套件\n",
    "from bs4 import BeautifulSoup as bs\n",
    "import requests\n",
    "import pandas as pd\n",
    "import re\n",
    "from datetime import datetime"
   ]
  },
  {
   "cell_type": "code",
   "execution_count": 2,
   "metadata": {},
   "outputs": [
    {
     "name": "stdout",
     "output_type": "stream",
     "text": [
      "169\n",
      "109\n"
     ]
    }
   ],
   "source": [
    "# 目標網址 (已爬取當日的最新文章編碼847039)\n",
    "# https://money.udn.com/money/story/5612/8470390?from=edn_subcatelist_cate\n",
    "news_number = 8470390\n",
    "\n",
    "\n",
    "# 設立空的list\n",
    "output = []\n",
    "output.clear()\n",
    "\n",
    "# 計算總嘗試數 與 失敗數\n",
    "count = 0\n",
    "null = 0\n",
    "# 取得50篇文章\n",
    "while (len(output)<60):\n",
    "    \n",
    "    news_number = news_number - count\n",
    "    url = f\"https://money.udn.com/money/story/5612/{news_number}?from=edn_subcatelist_cate\"\n",
    "    try:\n",
    "        # 取得網頁html 並解析\n",
    "        res = requests.get(url)\n",
    "        soup = bs(res.text, \"lxml\")\n",
    "        # 取得標題\n",
    "        title = soup.select_one('h1').get_text().strip()\n",
    "\n",
    "        # 取得內文\n",
    "        results = soup.select(\"section.article-body__editor>p\")\n",
    "\n",
    "        #去除圖片文字說明\n",
    "        for result in results:\n",
    "            for del_figure in result.select('figure'):\n",
    "                del_figure.decompose()\n",
    "\n",
    "        # 去除空字串 以延伸閱讀當作文章終點\n",
    "        content=\"\"\n",
    "        for i in results:\n",
    "            i = i.get_text().strip()\n",
    "            if i == '':\n",
    "                continue\n",
    "            content = content + i\n",
    "            if i == '延伸閱讀':\n",
    "                break\n",
    "\n",
    "        # 取得文章內文發佈時間 html中第一個時間\n",
    "        date = soup.select_one(\"time\").get_text().strip()\n",
    "\n",
    "        # 將時間轉換西元年月日時分秒形式\n",
    "        date = datetime.strptime(date, \"%Y/%m/%d %H:%M:%S\")\n",
    "        date = date.strftime(\"%Y%m%d%H%M\")\n",
    "        # 將文章內容以字典形式加入結果字串\n",
    "        output.append({\n",
    "                    \"sources\":\"money-udn\",\n",
    "                    \"title\":title,\n",
    "                    \"url\":url,\n",
    "                    \"time\":date,\n",
    "                    \"results\":content})\n",
    "        count += 1\n",
    "    except:\n",
    "        count += 1\n",
    "        null += 1\n",
    "        continue\n",
    "    \n",
    "# 總共試了幾個文章代碼\n",
    "print(count)\n",
    "# 有多少無效文章代碼\n",
    "print(null)"
   ]
  },
  {
   "cell_type": "code",
   "execution_count": 3,
   "metadata": {},
   "outputs": [
    {
     "name": "stdout",
     "output_type": "stream",
     "text": [
      "60\n"
     ]
    }
   ],
   "source": [
    "# 將結果轉為data frame\n",
    "df = pd.DataFrame(output)\n",
    "# 取得文章數量\n",
    "print(len(df))\n",
    "# 輸出為csv檔\n",
    "df.to_csv('money_udn', index=True, encoding='utf-8-sig')"
   ]
  }
 ],
 "metadata": {
  "kernelspec": {
   "display_name": "web_scraping",
   "language": "python",
   "name": "python3"
  },
  "language_info": {
   "codemirror_mode": {
    "name": "ipython",
    "version": 3
   },
   "file_extension": ".py",
   "mimetype": "text/x-python",
   "name": "python",
   "nbconvert_exporter": "python",
   "pygments_lexer": "ipython3",
   "version": "3.10.15"
  }
 },
 "nbformat": 4,
 "nbformat_minor": 2
}
