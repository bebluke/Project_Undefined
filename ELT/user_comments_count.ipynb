{
 "cells": [
  {
   "cell_type": "code",
   "execution_count": 1,
   "metadata": {},
   "outputs": [],
   "source": [
    "import pandas as pd\n",
    "import glob"
   ]
  },
  {
   "cell_type": "code",
   "execution_count": null,
   "metadata": {},
   "outputs": [],
   "source": [
    "# 讀取 gmap_data(99).csv\n",
    "df = pd.read_csv('gmap838_reviews.csv')\n",
    "\n",
    "# 確保 'language' 欄位存在，然後分組統計\n",
    "grouped = df.groupby('language')\n",
    "\n",
    "for language, group in grouped:\n",
    "    # 統計 'user_id' 的出現次數\n",
    "    user_counts = group['user_id'].value_counts().reset_index()\n",
    "    \n",
    "    # 重命名欄位\n",
    "    user_counts.columns = ['user_id', 'ncomments']\n",
    "    \n",
    "    # 按 'ncomments' 降冪排序\n",
    "    user_counts_sorted = user_counts.sort_values(by='ncomments', ascending=False)\n",
    "    \n",
    "    # 輸出為新的 CSV 檔案\n",
    "    output_filename = f\"{language}_user_comment_counts.csv\"\n",
    "    user_counts_sorted.to_csv(output_filename, index=False)\n"
   ]
  },
  {
   "cell_type": "code",
   "execution_count": 1,
   "metadata": {},
   "outputs": [
    {
     "name": "stdout",
     "output_type": "stream",
     "text": [
      "   language  1st  25th  50th  100th\n",
      "0        af    1     0     0      0\n",
      "1        ar    7     1     1      1\n",
      "2        az    1     0     0      0\n",
      "3        bg    2     1     0      0\n",
      "4        bn    1     0     0      0\n",
      "..      ...  ...   ...   ...    ...\n",
      "94       yi    2     0     0      0\n",
      "95       yo    1     0     0      0\n",
      "96  zh-Hant  293   142   127    106\n",
      "97       zh   71    29    26     22\n",
      "98       zu    1     0     0      0\n",
      "\n",
      "[99 rows x 5 columns]\n",
      "統計結果已輸出至 language_comment_statistics.csv\n"
     ]
    }
   ],
   "source": [
    "import pandas as pd\n",
    "import glob\n",
    "import os\n",
    "\n",
    "# 定義檔案路徑\n",
    "file_path = \"./CSV/user_count/*.csv\"\n",
    "\n",
    "# 搜尋所有語言對應的統計檔案\n",
    "files = glob.glob(file_path)\n",
    "\n",
    "# 統計結果存儲\n",
    "stats = []\n",
    "\n",
    "# 讀取每個檔案並提取統計數據\n",
    "for file in files:\n",
    "    filename = os.path.basename(file)  # 取得檔案名稱\n",
    "    language = filename.rsplit(\"_\", 3)[0]  # 取得語言名稱\n",
    "    df = pd.read_csv(file, usecols=['user_id', 'ncomments'])\n",
    "    \n",
    "    # 確保 'ncomments' 欄位存在且有足夠的資料\n",
    "    df_sorted = df.sort_values(by='ncomments', ascending=False)\n",
    "    ranks = [1, 25, 50, 100]\n",
    "    values = {rank: int(df_sorted['ncomments'].iloc[rank - 1]) if len(df_sorted) >= rank and not pd.isna(df_sorted['ncomments'].iloc[rank - 1]) else None for rank in ranks}\n",
    "    \n",
    "    stats.append({\n",
    "        \"language\": language,\n",
    "        \"1st\": values[1],\n",
    "        \"25th\": values[25],\n",
    "        \"50th\": values[50],\n",
    "        \"100th\": values[100]\n",
    "    })\n",
    "\n",
    "# 轉換為 DataFrame\n",
    "stats_df = pd.DataFrame(stats)\n",
    "\n",
    "# 確保所有數值列為整數類型，填充 None 為 0\n",
    "stats_df = stats_df.fillna(0).astype({\"1st\": \"int\", \"25th\": \"int\", \"50th\": \"int\", \"100th\": \"int\"})\n",
    "\n",
    "# 輸出為 CSV\n",
    "output_filename = \"language_comment_statistics.csv\"\n",
    "stats_df.to_csv(output_filename, index=False)\n",
    "\n",
    "# 顯示結果\n",
    "print(stats_df)\n",
    "print(f\"統計結果已輸出至 {output_filename}\")"
   ]
  }
 ],
 "metadata": {
  "kernelspec": {
   "display_name": "Python 3",
   "language": "python",
   "name": "python3"
  },
  "language_info": {
   "codemirror_mode": {
    "name": "ipython",
    "version": 3
   },
   "file_extension": ".py",
   "mimetype": "text/x-python",
   "name": "python",
   "nbconvert_exporter": "python",
   "pygments_lexer": "ipython3",
   "version": "3.13.0"
  }
 },
 "nbformat": 4,
 "nbformat_minor": 2
}
