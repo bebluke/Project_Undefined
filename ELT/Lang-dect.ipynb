{
 "cells": [
  {
   "cell_type": "code",
   "execution_count": null,
   "metadata": {},
   "outputs": [],
   "source": [
    "pip install lingua-language-detector"
   ]
  },
  {
   "cell_type": "code",
   "execution_count": 9,
   "metadata": {},
   "outputs": [
    {
     "name": "stdout",
     "output_type": "stream",
     "text": [
      "處理完成，輸出文件: output_reviews_with_lang.csv\n"
     ]
    }
   ],
   "source": [
    "import pandas as pd\n",
    "from lingua import Language, LanguageDetectorBuilder\n",
    "\n",
    "def detect_language(text, detector):\n",
    "    if pd.isna(text) or not isinstance(text, str) or text.strip() == \"\":\n",
    "        return \"\"\n",
    "    detected_language = detector.detect_language_of(text)\n",
    "    return detected_language.name.lower() if detected_language else \"\"\n",
    "\n",
    "def process_reviews(input_csv, output_csv):\n",
    "    # 定義要偵測的語言\n",
    "    languages = [\n",
    "        Language.ENGLISH, Language.CHINESE, Language.JAPANESE, Language.KOREAN, \n",
    "        Language.FRENCH, Language.GERMAN, Language.SPANISH, Language.ITALIAN,Language.VIETNAMESE,Language.THAI\n",
    "    ]\n",
    "    detector = LanguageDetectorBuilder.from_languages(*languages).build()\n",
    "    \n",
    "    # 讀取 CSV（無標題）\n",
    "    df = pd.read_csv(input_csv, header=None)\n",
    "    \n",
    "    # 偵測第四欄的評論\n",
    "    df[\"Language\"] = df[3].apply(lambda text: detect_language(text, detector))\n",
    "    \n",
    "    # 儲存結果\n",
    "    df.to_csv(output_csv, index=False, header=False)\n",
    "    print(f\"處理完成，輸出文件: {output_csv}\")\n",
    "\n",
    "# 使用範例\n",
    "input_file = \"reviews_output_大安森林公園.csv\"  # 替換成你的輸入檔案\n",
    "output_file = \"output_reviews_with_lang.csv\"\n",
    "process_reviews(input_file, output_file)\n"
   ]
  }
 ],
 "metadata": {
  "kernelspec": {
   "display_name": "Python 3",
   "language": "python",
   "name": "python3"
  },
  "language_info": {
   "codemirror_mode": {
    "name": "ipython",
    "version": 3
   },
   "file_extension": ".py",
   "mimetype": "text/x-python",
   "name": "python",
   "nbconvert_exporter": "python",
   "pygments_lexer": "ipython3",
   "version": "3.13.0"
  }
 },
 "nbformat": 4,
 "nbformat_minor": 2
}
