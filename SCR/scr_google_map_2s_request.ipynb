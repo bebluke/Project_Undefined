{
 "cells": [
  {
   "cell_type": "code",
   "execution_count": 5,
   "metadata": {},
   "outputs": [
    {
     "name": "stdout",
     "output_type": "stream",
     "text": [
      "現在在第 1 頁\n",
      "總共存入 10 筆評論\n",
      "其中有 4 筆評論有內文\n",
      "現在在第 2 頁\n",
      "總共存入 20 筆評論\n",
      "其中有 11 筆評論有內文\n",
      "現在在第 3 頁\n",
      "總共存入 30 筆評論\n",
      "其中有 19 筆評論有內文\n",
      "現在在第 4 頁\n",
      "總共存入 40 筆評論\n",
      "其中有 24 筆評論有內文\n",
      "現在在第 5 頁\n",
      "總共存入 50 筆評論\n",
      "其中有 29 筆評論有內文\n",
      "現在在第 6 頁\n",
      "總共存入 60 筆評論\n",
      "其中有 34 筆評論有內文\n",
      "現在在第 7 頁\n",
      "總共存入 70 筆評論\n",
      "其中有 37 筆評論有內文\n",
      "現在在第 8 頁\n",
      "總共存入 80 筆評論\n",
      "其中有 43 筆評論有內文\n",
      "現在在第 9 頁\n",
      "總共存入 90 筆評論\n",
      "其中有 46 筆評論有內文\n",
      "現在在第 10 頁\n",
      "總共存入 100 筆評論\n",
      "其中有 51 筆評論有內文\n",
      "現在在第 11 頁\n",
      "總共存入 110 筆評論\n",
      "其中有 59 筆評論有內文\n",
      "現在在第 12 頁\n",
      "總共存入 120 筆評論\n",
      "其中有 64 筆評論有內文\n",
      "現在在第 13 頁\n",
      "總共存入 130 筆評論\n",
      "其中有 71 筆評論有內文\n",
      "現在在第 14 頁\n",
      "總共存入 140 筆評論\n",
      "其中有 74 筆評論有內文\n"
     ]
    },
    {
     "ename": "KeyboardInterrupt",
     "evalue": "",
     "output_type": "error",
     "traceback": [
      "\u001b[1;31m---------------------------------------------------------------------------\u001b[0m",
      "\u001b[1;31mKeyboardInterrupt\u001b[0m                         Traceback (most recent call last)",
      "Cell \u001b[1;32mIn[5], line 65\u001b[0m\n\u001b[0;32m     63\u001b[0m sleep(\u001b[38;5;241m1\u001b[39m)\n\u001b[0;32m     64\u001b[0m \u001b[38;5;66;03m#### 提取要的資料\u001b[39;00m\n\u001b[1;32m---> 65\u001b[0m \u001b[38;5;28;01mwith\u001b[39;00m \u001b[38;5;28;43mopen\u001b[39;49m\u001b[43m(\u001b[49m\u001b[43moutput_file\u001b[49m\u001b[43m,\u001b[49m\u001b[43m \u001b[49m\u001b[43mmode\u001b[49m\u001b[38;5;241;43m=\u001b[39;49m\u001b[38;5;124;43m'\u001b[39;49m\u001b[38;5;124;43ma\u001b[39;49m\u001b[38;5;124;43m'\u001b[39;49m\u001b[43m,\u001b[49m\u001b[43m \u001b[49m\u001b[43mencoding\u001b[49m\u001b[38;5;241;43m=\u001b[39;49m\u001b[38;5;124;43m'\u001b[39;49m\u001b[38;5;124;43mutf-8\u001b[39;49m\u001b[38;5;124;43m'\u001b[39;49m\u001b[43m,\u001b[49m\u001b[43m \u001b[49m\u001b[43mnewline\u001b[49m\u001b[38;5;241;43m=\u001b[39;49m\u001b[38;5;124;43m'\u001b[39;49m\u001b[38;5;124;43m'\u001b[39;49m\u001b[43m)\u001b[49m \u001b[38;5;28;01mas\u001b[39;00m file:\n\u001b[0;32m     66\u001b[0m     writer \u001b[38;5;241m=\u001b[39m csv\u001b[38;5;241m.\u001b[39mwriter(file)\n\u001b[0;32m     67\u001b[0m     \u001b[38;5;28;01mfor\u001b[39;00m i \u001b[38;5;129;01min\u001b[39;00m \u001b[38;5;28mrange\u001b[39m(\u001b[38;5;241m10\u001b[39m):\n",
      "File \u001b[1;32mc:\\Users\\coffi\\anaconda3\\envs\\web_scraping\\lib\\site-packages\\IPython\\core\\interactiveshell.py:324\u001b[0m, in \u001b[0;36m_modified_open\u001b[1;34m(file, *args, **kwargs)\u001b[0m\n\u001b[0;32m    317\u001b[0m \u001b[38;5;28;01mif\u001b[39;00m file \u001b[38;5;129;01min\u001b[39;00m {\u001b[38;5;241m0\u001b[39m, \u001b[38;5;241m1\u001b[39m, \u001b[38;5;241m2\u001b[39m}:\n\u001b[0;32m    318\u001b[0m     \u001b[38;5;28;01mraise\u001b[39;00m \u001b[38;5;167;01mValueError\u001b[39;00m(\n\u001b[0;32m    319\u001b[0m         \u001b[38;5;124mf\u001b[39m\u001b[38;5;124m\"\u001b[39m\u001b[38;5;124mIPython won\u001b[39m\u001b[38;5;124m'\u001b[39m\u001b[38;5;124mt let you open fd=\u001b[39m\u001b[38;5;132;01m{\u001b[39;00mfile\u001b[38;5;132;01m}\u001b[39;00m\u001b[38;5;124m by default \u001b[39m\u001b[38;5;124m\"\u001b[39m\n\u001b[0;32m    320\u001b[0m         \u001b[38;5;124m\"\u001b[39m\u001b[38;5;124mas it is likely to crash IPython. If you know what you are doing, \u001b[39m\u001b[38;5;124m\"\u001b[39m\n\u001b[0;32m    321\u001b[0m         \u001b[38;5;124m\"\u001b[39m\u001b[38;5;124myou can use builtins\u001b[39m\u001b[38;5;124m'\u001b[39m\u001b[38;5;124m open.\u001b[39m\u001b[38;5;124m\"\u001b[39m\n\u001b[0;32m    322\u001b[0m     )\n\u001b[1;32m--> 324\u001b[0m \u001b[38;5;28;01mreturn\u001b[39;00m io_open(file, \u001b[38;5;241m*\u001b[39margs, \u001b[38;5;241m*\u001b[39m\u001b[38;5;241m*\u001b[39mkwargs)\n",
      "File \u001b[1;32mc:\\Users\\coffi\\anaconda3\\envs\\web_scraping\\lib\\codecs.py:186\u001b[0m, in \u001b[0;36mIncrementalEncoder.__init__\u001b[1;34m(self, errors)\u001b[0m\n\u001b[0;32m    180\u001b[0m \u001b[38;5;28;01mclass\u001b[39;00m \u001b[38;5;21;01mIncrementalEncoder\u001b[39;00m(\u001b[38;5;28mobject\u001b[39m):\n\u001b[0;32m    181\u001b[0m \u001b[38;5;250m    \u001b[39m\u001b[38;5;124;03m\"\"\"\u001b[39;00m\n\u001b[0;32m    182\u001b[0m \u001b[38;5;124;03m    An IncrementalEncoder encodes an input in multiple steps. The input can\u001b[39;00m\n\u001b[0;32m    183\u001b[0m \u001b[38;5;124;03m    be passed piece by piece to the encode() method. The IncrementalEncoder\u001b[39;00m\n\u001b[0;32m    184\u001b[0m \u001b[38;5;124;03m    remembers the state of the encoding process between calls to encode().\u001b[39;00m\n\u001b[0;32m    185\u001b[0m \u001b[38;5;124;03m    \"\"\"\u001b[39;00m\n\u001b[1;32m--> 186\u001b[0m     \u001b[38;5;28;01mdef\u001b[39;00m \u001b[38;5;21m__init__\u001b[39m(\u001b[38;5;28mself\u001b[39m, errors\u001b[38;5;241m=\u001b[39m\u001b[38;5;124m'\u001b[39m\u001b[38;5;124mstrict\u001b[39m\u001b[38;5;124m'\u001b[39m):\n\u001b[0;32m    187\u001b[0m \u001b[38;5;250m        \u001b[39m\u001b[38;5;124;03m\"\"\"\u001b[39;00m\n\u001b[0;32m    188\u001b[0m \u001b[38;5;124;03m        Creates an IncrementalEncoder instance.\u001b[39;00m\n\u001b[0;32m    189\u001b[0m \n\u001b[1;32m   (...)\u001b[0m\n\u001b[0;32m    192\u001b[0m \u001b[38;5;124;03m        for a list of possible values.\u001b[39;00m\n\u001b[0;32m    193\u001b[0m \u001b[38;5;124;03m        \"\"\"\u001b[39;00m\n\u001b[0;32m    194\u001b[0m         \u001b[38;5;28mself\u001b[39m\u001b[38;5;241m.\u001b[39merrors \u001b[38;5;241m=\u001b[39m errors\n",
      "\u001b[1;31mKeyboardInterrupt\u001b[0m: "
     ]
    }
   ],
   "source": [
    "import requests\n",
    "import json\n",
    "import csv\n",
    "from datetime import datetime, timezone\n",
    "from time import sleep\n",
    "\n",
    "#### 輸出的CSV\n",
    "# 輸入地點\n",
    "location = \"饒河夜市\"\n",
    "output_file = f'reviews_output_{location}.csv'\n",
    "\n",
    "#### ID不重複\n",
    "unique_ids = set()\n",
    "\n",
    "#### 計算評論數 & 有內文的評論數\n",
    "total_reviews = 0\n",
    "reviews_with_comments = 0\n",
    "\n",
    "#### 寫入CSV標題 (不建議使用 若遇到接續爬的時候 忘了註解 會洗掉前面紀錄)\n",
    "# with open(output_file, mode='w', encoding='utf-8', newline='') as file:\n",
    "#     writer = csv.writer(file)\n",
    "#     writer.writerow([\"ID\", \"Rating\", \"TIME\", \"Comment\"])\n",
    "\n",
    "# 紀錄2s碼的串列\n",
    "list_2s = []\n",
    "\n",
    "# 清空串列\n",
    "list_2s.clear()\n",
    "\n",
    "# 計數器\n",
    "count = 1\n",
    "\n",
    "# 手動取得2s 碼 (評論排序選最新 去F12 console 的 Networking 觀察評論載入時 有個listugcposts的項目 網址中2s 後方的項目為2s碼 網址其他部分貼到下方)\n",
    "google = \"CAESYENBRVFDaHBDUTJrNFNVRlNTVzVEWjI5QlVEY3lSM1J1T1ZaV1psOWZSV2hCWWt4NGNFSk1NV3BXVjNZM1pYTkRUVUZCUVVGQlIyZG1YMEZ0ZEc0NVZsWm1SMEZCYVVGQg%3D%3D\"\n",
    "\n",
    "#### 發出請求\n",
    "# 抓到沒有下一個 2s 碼為止\n",
    "# while google:\n",
    "while type(google)==str:\n",
    "    # 紀錄每一頁的 2s 碼 若意外中斷可以印出中斷的2s碼接續爬\n",
    "    list_2s.append(\n",
    "        {\n",
    "        'page': count,\n",
    "        'code_2s': google\n",
    "    }\n",
    "    )\n",
    "    \n",
    "    # 手動取得網址 方法寫在上方\n",
    "    url = f'https://www.google.com/maps/rpc/listugcposts?authuser=0&hl=zh-TW&gl=tw&pb=!1m6!1s0x3442ab9c0db4a583%3A0x3da21183815df6f6!6m4!4m1!1e1!4m1!1e3!2m2!1i10!2s{google}!5m2!1s60SUZ7iVL7rT2roPgpr0-QU!7e81!8m9!2b1!3b1!5b1!7b1!12m4!1b1!2b1!4m1!1e1!11m0!13m1!1e2'\n",
    "    response = requests.get(url)\n",
    "    response.raise_for_status()\n",
    "\n",
    "    raw_content = response.text.strip()\n",
    "\n",
    "    #### 移除開頭的)]}'\n",
    "    if raw_content.startswith(\")]}'\"):\n",
    "        raw_content = raw_content[4:]\n",
    "\n",
    "    data = json.loads(raw_content)\n",
    "\n",
    "    google = data[1].replace('=', '%3D')\n",
    "\n",
    "    sleep(1)\n",
    "    #### 提取要的資料\n",
    "    with open(output_file, mode='a', encoding='utf-8', newline='') as file:\n",
    "        writer = csv.writer(file)\n",
    "        for i in range(10):\n",
    "            try:                        \n",
    "                review_id =  str(data[2][i][0][0])\n",
    "                rating = str(data[2][i][0][2][0][0])\n",
    "                timestamp_seconds = data[2][i][0][1][2] // 1000000\n",
    "                formatted_date = datetime.fromtimestamp(timestamp_seconds, tz=timezone.utc).strftime('%Y-%m-%d')\n",
    "                try:\n",
    "                    comment = data[2][i][0][2][15][0][0]\n",
    "                except (IndexError, TypeError):\n",
    "                    comment = \"\"\n",
    "                # 確保 ID 唯一，不重複儲存\n",
    "                if review_id not in unique_ids:\n",
    "                    writer.writerow([review_id, rating, formatted_date, comment])\n",
    "                    unique_ids.add(review_id)\n",
    "                    total_reviews += 1  # 增加計數\n",
    "                    if comment.strip():  # 若評論內容不為空\n",
    "                            reviews_with_comments += 1\n",
    "            except Exception as e:\n",
    "                print(f\"評論 {i + 1}: 無評論或格式錯誤 ({e})\")\n",
    "    print(f\"現在在第 {count} 頁\")\n",
    "    print(f\"總共存入 {total_reviews} 筆評論\")\n",
    "    print(f\"其中有 {reviews_with_comments} 筆評論有內文\")\n",
    "    count += 1\n",
    "print(\"沒有下一頁\")"
   ]
  },
  {
   "cell_type": "code",
   "execution_count": 6,
   "metadata": {},
   "outputs": [
    {
     "name": "stdout",
     "output_type": "stream",
     "text": [
      "[{'page': 1, 'code_2s': 'CAESYENBRVFDaHBDUTJrNFNVRlNTVzVEWjI5QlVEY3lSM1J1T1ZaV1psOWZSV2hCWWt4NGNFSk1NV3BXVjNZM1pYTkRUVUZCUVVGQlIyZG1YMEZ0ZEc0NVZsWm1SMEZCYVVGQg%3D%3D'}, {'page': 2, 'code_2s': 'CAESYENBRVFGQnBDUTJrNFNVRlNTVzVEWjI5QlVEY3lSM1J6VFRCSVJGOWZSV2hFVEZSVVZrSmhUV1ZHZVZSWVMzbHlPRUZCUVVGQlIyZG1YMEZ0ZEhOTk1FaEVSMEZCYVVGQg%3D%3D'}, {'page': 3, 'code_2s': 'CAESYENBRVFIaHBDUTJrNFNVRlNTVzVEWjI5QlVEY3lSM1IyYVVOdlpGOWZSV2hEUjBnNWFIUmxjMVJ5WjJWV1MxSnBXVUZCUVVGQlIyZG1YMEZ0ZEhacFEyOWtSMEZCYVVGQg%3D%3D'}, {'page': 4, 'code_2s': 'CAESYENBRVFLQnBDUTJrNFNVRlNTVzVEWjI5QlVEY3lSM1I1YVRsYWFGOWZSV2hFTFZKZmVsQnVXbTFKTlZCRVpXSm1XVUZCUVVGQlIyZG1YMEZ0ZEhscE9WcG9SMEZCYVVGQg%3D%3D'}, {'page': 5, 'code_2s': 'CAESY0NBRVFNaHBFUTJwRlNVRlNTWEJEWjI5QlVEY3lSM1F5VDNGd2RGOWZSV2hCYlVvMVRIUXRUR3N0WkdscFdqVlpaMEZCUVVGQlIyZHVPVEp3YzBOaE0xazJjVzB3V1VGRFNVRQ%3D%3D'}, {'page': 6, 'code_2s': 'CAESY0NBRVFQQnBFUTJwRlNVRlNTWEJEWjI5QlVEY3lSM1ExT0hGcldGOWZSV2hEVkdFeE9FVnZZblp3WkVsc1FtTkNWVUZCUVVGQlIyZHVPVEpTUlVOaE0yNTVjVkpqV1VGRFNVRQ%3D%3D'}, {'page': 7, 'code_2s': 'CAESYENBRVFSaHBDUTJrNFNVRlNTVzVEWjI5QlVEY3lSM1E0T0ROMlYxOWZSV2hDWkhaUWNFVnBhRGxvUzBsblZsOWxORUZCUVVGQlIyZG1YMEZ0ZERnNE0zWlhSMEZCYVVGQg%3D%3D'}, {'page': 8, 'code_2s': 'CAESY0NBRVFVQnBFUTJwRlNVRlNTWEJEWjI5QlVEY3lSM1ZCYVRSdFUxOWZSV2hFWDJ4a2FHTnNhVUpvWTNWNFlWRmhiMEZCUVVGQlIyZHVPVEpSTkVOaE5FTk1hVnBKV1VGRFNVRQ%3D%3D'}, {'page': 9, 'code_2s': 'CAESYENBRVFXaHBDUTJrNFNVRlNTVzVEWjI5QlVEY3lSM1ZEZUVKMVpWOWZSV2hFU1ZwSmEwdHJkREF3UkRGcmIwRjNXVUZCUVVGQlIyZG1YMEZ0ZFVONFFuVmxSMEZCYVVGQg%3D%3D'}, {'page': 10, 'code_2s': 'CAESYENBRVFaQnBDUTJrNFNVRlNTVzVEWjI5QlVEY3lSM1ZHZW5aR2VGOWZSV2hCYTJnelpFUnlkVU4zVUVoUmVGTldUVUZCUVVGQlIyZG1YMEZ0ZFVaNmRrWjRSMEZCYVVGQg%3D%3D'}, {'page': 11, 'code_2s': 'CAESY0NBRVFiaHBFUTJwRlNVRlNTWEJEWjI5QlVEY3lSM1ZJT0RCQ1ZsOWZSV2hDT1U4elMwdDZWMU0zTUd4VmNreGxkMEZCUVVGQlIyZHVPVEpXT0VOaE5HWjZVVVpWV1VGRFNVRQ%3D%3D'}, {'page': 12, 'code_2s': 'CAESY0NBRVFlQnBFUTJwRlNVRlNTWEJEWjI5QlVEY3lSM1ZOVmsxdlJsOWZSV2hFUkVKalUwMU9OMVp0VmxKYVIwSjVkMEZCUVVGQlIyZHVPVEozTUVOaE5IaFZlV2RWV1VGRFNVRQ%3D%3D'}, {'page': 13, 'code_2s': 'CAESYkNBRVFnZ0VhUWtOcE9FbEJVa2x1UTJkdlFWQTNNa2QxVW05UFRVZGZYMFZvUTBOMVZHVnJWV1UzTkdaQlFTMHllVVZCUVVGQlFVZG5abDlCYlhWU2IwOU5SMGRCUVdsQlFR'}, {'page': 14, 'code_2s': 'CAESZENBRVFqQUVhUkVOcVJVbEJVa2x3UTJkdlFWQTNNa2QxVmtSeGFHZGZYMFZvUVdGNFIzTXpWSFZyVmtGYVl6aHVjalJCUVVGQlFVZG5iamt6YUVsRFlUVlZUM0ZIUVZsQlEwbEI%3D'}, {'page': 15, 'code_2s': 'CAESYkNBRVFsZ0VhUWtOcE9FbEJVa2x1UTJkdlFWQTNNa2QxV0haSlluTmZYMFZvUkdWbVEzQnZObVpDY25ZNWNGWjNVMWxCUVVGQlFVZG5abDlCYlhWWWRrbGljMGRCUVdsQlFR'}]\n",
      "CAESYkNBRVFvQUVhUWtOcE9FbEJVa2x1UTJkdlFWQTNNa2QxWWs5VFZtUmZYMFZvUVc1Zll6ZGxUQzFpWWpOV2RIUmpTelJCUVVGQlFVZG5abDlCYlhWaVQxTldaRWRCUVdsQlFR\n"
     ]
    }
   ],
   "source": [
    "# 取得所有爬過的 2s 碼\n",
    "print(list_2s)\n",
    "\n",
    "# 若意外中斷可以取得該頁 2s 碼接續\n",
    "print(google)"
   ]
  },
  {
   "cell_type": "code",
   "execution_count": 10,
   "metadata": {},
   "outputs": [
    {
     "name": "stdout",
     "output_type": "stream",
     "text": [
      "<class 'str'>\n"
     ]
    }
   ],
   "source": [
    "import json\n",
    "\n",
    "with open(\"json.txt\", \"r\", encoding=\"utf-8\") as file:\n",
    "    data = json.load(file)\n",
    "    print(type(data[1]))\n",
    "    if type(data[0])==str:\n",
    "        print(data[0])"
   ]
  }
 ],
 "metadata": {
  "kernelspec": {
   "display_name": "web_scraping",
   "language": "python",
   "name": "python3"
  },
  "language_info": {
   "codemirror_mode": {
    "name": "ipython",
    "version": 3
   },
   "file_extension": ".py",
   "mimetype": "text/x-python",
   "name": "python",
   "nbconvert_exporter": "python",
   "pygments_lexer": "ipython3",
   "version": "3.10.16"
  }
 },
 "nbformat": 4,
 "nbformat_minor": 2
}
