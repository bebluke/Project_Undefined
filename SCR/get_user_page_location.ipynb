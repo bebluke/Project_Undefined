{
 "cells": [
  {
   "cell_type": "code",
   "execution_count": 2,
   "metadata": {},
   "outputs": [
    {
     "name": "stderr",
     "output_type": "stream",
     "text": [
      "C:\\Users\\Administrator\\AppData\\Local\\Temp\\ipykernel_14812\\3597110692.py:65: DeprecationWarning: datetime.datetime.utcfromtimestamp() is deprecated and scheduled for removal in a future version. Use timezone-aware objects to represent datetimes in UTC: datetime.datetime.fromtimestamp(timestamp, datetime.UTC).\n",
      "  formatted_date = datetime.utcfromtimestamp(timestamp).strftime('%Y-%m-%d')\n"
     ]
    },
    {
     "name": "stdout",
     "output_type": "stream",
     "text": [
      "[ERROR] 無法取得 102593444098371563490 的資料，跳過...\n",
      "[ERROR] 無法取得 110113342761671225928 的資料，跳過...\n",
      "[ERROR] 無法取得 103308312894993937064 的資料，跳過...\n",
      "[ERROR] 無法取得 112799207508959677048 的資料，跳過...\n",
      "[ERROR] 無法取得 102371826996902429012 的資料，跳過...\n",
      "[ERROR] 無法取得 102481634779662002158 的資料，跳過...\n",
      "[ERROR] 無法取得 113567067201975349034 的資料，跳過...\n",
      "[ERROR] 無法取得 112998935518815021950 的資料，跳過...\n",
      "[ERROR] 無法取得 117234750600340065368 的資料，跳過...\n"
     ]
    }
   ],
   "source": [
    "import requests\n",
    "import pandas as pd\n",
    "import json\n",
    "import time\n",
    "import random\n",
    "from datetime import datetime\n",
    "\n",
    "# 設定輸入 CSV 檔案名稱\n",
    "INPUT_CSV = \"user_list.csv\"\n",
    "KEI_CSV = \"KEI_list.csv\"\n",
    "OUTPUT_CSV_REVIEWS = \"user_reviews.csv\"\n",
    "OUTPUT_CSV_LOCATIONS = \"user_locations.csv\"\n",
    "\n",
    "# 讀取 CSV 取得 user_id\n",
    "df_users = pd.read_csv(INPUT_CSV) \n",
    "user_ids = df_users['user_id'].tolist()\n",
    "\n",
    "# 讀取 KEI \n",
    "df_kei = pd.read_csv(KEI_CSV)\n",
    "kei_list = df_kei['kei'].tolist()\n",
    "\n",
    "# 設定請求次數上限\n",
    "MAX_PAGE_REQUESTS = 5\n",
    "\n",
    "# 儲存結果的 DataFrame\n",
    "reviews_data = []\n",
    "locations_data = {}\n",
    "\n",
    "# 爬取所有 user_id\n",
    "for user_id in user_ids:\n",
    "    kei = random.choice(kei_list)  # 每位 user_id 開始時隨機選擇 KEI\n",
    "    token = \"\"  # 第一個請求 token 為空\n",
    "    request_count = 0\n",
    "\n",
    "    while request_count < MAX_PAGE_REQUESTS:\n",
    "        # 建立請求 URL\n",
    "        url = (f\"https://www.google.com/locationhistory/preview/mas?authuser=0&hl=zh-TW&gl=tw&pb=\"\n",
    "               f\"!1s{user_id}!2m3!1s{kei}!7e81!15i14416!6m2!4b1!7b1!9m0!17m28!1m6!1m2!1i0!2i0!2m2!1i530!2i306\"\n",
    "               f\"!1m6!1m2!1i1870!2i0!2m2!1i1920!2i306!1m6!1m2!1i0!2i0!2m2!1i1920!2i20!1m6!1m2!1i0!2i286!2m2!1i1920\"\n",
    "               f\"!2i306!18m9!1m3!1d46090.09471573684!2d121.5320757!3d25.0371489!2m0!3m2!1i1920!2i306!4f13.1!41m15!1i20!\"\n",
    "               f\"2m9!2b1!3b1!5b1!7b1!12m4!1b1!2b1!4m1!1e1!3s{token}!7m2!1m1!1e1\")\n",
    "\n",
    "        response = requests.get(url)\n",
    "        if response.status_code != 200:\n",
    "            print(f\"[ERROR] 無法取得 {user_id} 的資料，跳過...\")\n",
    "            break\n",
    "\n",
    "        # 移除開頭的 ')]}'\n",
    "        raw_content = response.text\n",
    "        if raw_content.startswith(\")]}'\"):\n",
    "            raw_content = raw_content[4:]\n",
    "        \n",
    "        data = json.loads(raw_content)\n",
    "\n",
    "        for review in data[45][0]:\n",
    "            try:\n",
    "                # 檢查是否有台北標準時間\n",
    "                if \"台北標準時間\" not in str(review[4][13][1][1]):\n",
    "                    continue\n",
    "                \n",
    "                gmap_location = review[1][0][4] if len(review[1][0]) > 4 else \"\"\n",
    "                location_id = review[1][0][2] if len(review[1][0]) > 2 else \"\"\n",
    "                review_id = review[1][0][1]\n",
    "                timestamp = review[2][1][2] // 1000000\n",
    "                formatted_date = datetime.utcfromtimestamp(timestamp).strftime('%Y-%m-%d')\n",
    "                rating = review[2][2][0][0]\n",
    "                language = review[2][2][14][0] if len(review[2][2]) > 14 else \"\"\n",
    "                comment = review[2][2][15][0][0] if len(review[2][2]) > 15 else \"\"\n",
    "                translated = review[2][2][15][1][0] if len(review[2][2]) > 15 else \"\"\n",
    "                \n",
    "                reviews_data.append([user_id, gmap_location, location_id, review_id, formatted_date, rating, language, comment, translated])\n",
    "                \n",
    "                # 更新景點統計\n",
    "                if location_id and location_id not in locations_data:\n",
    "                    locations_data[location_id] = {\n",
    "                        \"gmap_location\": gmap_location,\n",
    "                        \"count\": 0,\n",
    "                    }\n",
    "                if location_id:\n",
    "                    locations_data[location_id][\"count\"] += 1\n",
    "            except Exception as e:\n",
    "                print(f\"[ERROR] 解析評論失敗: {e}\")\n",
    "                continue\n"
   ]
  },
  {
   "cell_type": "code",
   "execution_count": 3,
   "metadata": {},
   "outputs": [
    {
     "name": "stdout",
     "output_type": "stream",
     "text": [
      "https://www.google.com/locationhistory/preview/mas?authuser=0&hl=zh-TW&gl=tw&pb=!1s117234750600340065368!2m3!1sk8euZ-hso8_V7w-f78egAQ!7e81!15i14416!6m2!4b1!7b1!9m0!17m28!1m6!1m2!1i0!2i0!2m2!1i530!2i306!1m6!1m2!1i1870!2i0!2m2!1i1920!2i306!1m6!1m2!1i0!2i0!2m2!1i1920!2i20!1m6!1m2!1i0!2i286!2m2!1i1920!2i306!18m9!1m3!1d46090.09471573684!2d121.5320757!3d25.0371489!2m0!3m2!1i1920!2i306!4f13.1!41m15!1i20!2m9!2b1!3b1!5b1!7b1!12m4!1b1!2b1!4m1!1e1!3s!7m2!1m1!1e1\n"
     ]
    }
   ],
   "source": [
    "print(url)"
   ]
  }
 ],
 "metadata": {
  "kernelspec": {
   "display_name": "base",
   "language": "python",
   "name": "python3"
  },
  "language_info": {
   "codemirror_mode": {
    "name": "ipython",
    "version": 3
   },
   "file_extension": ".py",
   "mimetype": "text/x-python",
   "name": "python",
   "nbconvert_exporter": "python",
   "pygments_lexer": "ipython3",
   "version": "3.12.7"
  }
 },
 "nbformat": 4,
 "nbformat_minor": 2
}
