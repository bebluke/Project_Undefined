{
 "cells": [
  {
   "cell_type": "code",
   "execution_count": 6,
   "metadata": {},
   "outputs": [],
   "source": [
    "import pandas as pd\n",
    "import pymysql\n",
    "import matplotlib.pyplot as plt"
   ]
  },
  {
   "cell_type": "code",
   "execution_count": null,
   "metadata": {},
   "outputs": [],
   "source": [
    "# 測試資料庫連線\n",
    "\n",
    "db_config = {\n",
    "    \"host\": \"111.235.253.145\",\n",
    "    \"user\": \"root\",\n",
    "    \"password\": \"Aji3cl3qup*\",  \n",
    "    \"database\": \"E.A.T\",\n",
    "    \"port\": 3307  \n",
    "}\n",
    "\n",
    "try:\n",
    "    # 建立連線\n",
    "    connection = pymysql.connect(**db_config)\n",
    "    print(\"Connection successful!\")\n",
    "    \n",
    "    # 測試查詢\n",
    "    with connection.cursor() as cursor:\n",
    "        cursor.execute(\"SELECT DATABASE();\")\n",
    "        result = cursor.fetchone()\n",
    "        print(f\"Connected to database: {result[0]}\")\n",
    "    \n",
    "    connection.close()\n",
    "except pymysql.MySQLError as e:\n",
    "    print(f\"Failed to connect to database: {e}\")"
   ]
  },
  {
   "cell_type": "code",
   "execution_count": null,
   "metadata": {},
   "outputs": [],
   "source": [
    "C:/Users/Administrator/Downloads/PortableGit/CSV/FINAL_SEL/FINAL_SEL_list.csv"
   ]
  },
  {
   "cell_type": "code",
   "execution_count": 22,
   "metadata": {},
   "outputs": [],
   "source": [
    "from pymysql import ProgrammingError"
   ]
  },
  {
   "cell_type": "code",
   "execution_count": 37,
   "metadata": {},
   "outputs": [],
   "source": [
    "def load_fuzzy_list_to_db(csv_path, db_config):\n",
    "    try:\n",
    "        # 連接 MariaDB\n",
    "        conn = pymysql.connect(**db_config)\n",
    "        cursor = conn.cursor()\n",
    "\n",
    "        # 建立 vegetable_aliases 表（如果尚未存在）\n",
    "        create_table_query = \"\"\"\n",
    "        CREATE TABLE IF NOT EXISTS vegetable_aliases (\n",
    "            id INT AUTO_INCREMENT PRIMARY KEY,\n",
    "            fuzzy_name VARCHAR(255) NOT NULL,\n",
    "            alias_name VARCHAR(255) NOT NULL            \n",
    "        );\n",
    "        \"\"\"\n",
    "        cursor.execute(create_table_query)\n",
    "\n",
    "        # 從 CSV 文件中讀取數據\n",
    "        df = pd.read_csv(csv_path, encoding='utf-8')\n",
    "\n",
    "        # 檢查數據是否為兩列並轉換為列表\n",
    "        if df.shape[1] == 2:\n",
    "            aliases = df.dropna().values.tolist()\n",
    "        else:\n",
    "            raise ValueError(\"CSV 文件必須包含兩列：fuzzy_name 和 alias_name\")\n",
    "        \n",
    "        # 檢查是否有要插入的數據\n",
    "        if not aliases:\n",
    "            raise ValueError(\"CSV 文件中沒有有效的數據\")\n",
    "\n",
    "        # 將數據插入 vegetable_aliases 表，確保字符串值用引號包圍\n",
    "        insert_query = \"INSERT INTO vegetable_aliases (fuzzy_name, alias_name) VALUES (%s, %s)\"\n",
    "        cursor.executemany(insert_query, [(str(fuzzy), str(alias)) for fuzzy, alias in aliases])\n",
    "        conn.commit()\n",
    "\n",
    "    except ProgrammingError as e:\n",
    "        print(f\"SQL 語法錯誤: {e}\")\n",
    "    except Exception as e:\n",
    "        print(f\"發生錯誤: {e}\")\n",
    "    finally:\n",
    "        if 'cursor' in locals() and cursor:\n",
    "            cursor.close()\n",
    "        if 'conn' in locals() and conn:\n",
    "            conn.close()\n",
    "\n",
    "# 資料庫配置\n",
    "db_config = {\n",
    "    \"host\": \"111.235.253.145\",\n",
    "    \"user\": \"root\",\n",
    "    \"password\": \"Aji3cl3qup*\",  \n",
    "    \"database\": \"E.A.T\",\n",
    "    \"port\": 3307  \n",
    "}\n",
    "\n",
    "# 路徑和操作\n",
    "csv_path = 'C:/Users/Administrator/Downloads/PortableGit/CSV/FINAL_SEL/FINAL_SEL_list.csv'\n",
    "\n",
    "# 執行步驟\n",
    "load_fuzzy_list_to_db(csv_path, db_config)"
   ]
  }
 ],
 "metadata": {
  "kernelspec": {
   "display_name": "Python 3",
   "language": "python",
   "name": "python3"
  },
  "language_info": {
   "codemirror_mode": {
    "name": "ipython",
    "version": 3
   },
   "file_extension": ".py",
   "mimetype": "text/x-python",
   "name": "python",
   "nbconvert_exporter": "python",
   "pygments_lexer": "ipython3",
   "version": "3.13.0"
  }
 },
 "nbformat": 4,
 "nbformat_minor": 2
}
